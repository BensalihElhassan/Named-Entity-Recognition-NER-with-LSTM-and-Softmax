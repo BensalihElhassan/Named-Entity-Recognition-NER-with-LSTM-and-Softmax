{
 "cells": [
  {
   "cell_type": "code",
   "execution_count": 5,
   "metadata": {
    "execution": {
     "iopub.execute_input": "2024-12-24T13:43:26.989367Z",
     "iopub.status.busy": "2024-12-24T13:43:26.989006Z",
     "iopub.status.idle": "2024-12-24T16:00:28.691708Z",
     "shell.execute_reply": "2024-12-24T16:00:28.690868Z",
     "shell.execute_reply.started": "2024-12-24T13:43:26.989341Z"
    }
   },
   "outputs": [
    {
     "name": "stdout",
     "output_type": "stream",
     "text": [
      "Loading Word Embedding model...\n",
      "Loaded model in 173.52 seconds\n"
     ]
    },
    {
     "name": "stderr",
     "output_type": "stream",
     "text": [
      "/usr/local/lib/python3.10/dist-packages/keras/src/layers/core/embedding.py:90: UserWarning: Argument `input_length` is deprecated. Just remove it.\n",
      "  warnings.warn(\n"
     ]
    },
    {
     "data": {
      "text/html": [
       "<pre style=\"white-space:pre;overflow-x:auto;line-height:normal;font-family:Menlo,'DejaVu Sans Mono',consolas,'Courier New',monospace\"><span style=\"font-weight: bold\">Model: \"functional\"</span>\n",
       "</pre>\n"
      ],
      "text/plain": [
       "\u001b[1mModel: \"functional\"\u001b[0m\n"
      ]
     },
     "metadata": {},
     "output_type": "display_data"
    },
    {
     "data": {
      "text/html": [
       "<pre style=\"white-space:pre;overflow-x:auto;line-height:normal;font-family:Menlo,'DejaVu Sans Mono',consolas,'Courier New',monospace\">┏━━━━━━━━━━━━━━━━━━━━━━━━━━━━━━━━━━━━━━┳━━━━━━━━━━━━━━━━━━━━━━━━━━━━━┳━━━━━━━━━━━━━━━━━┓\n",
       "┃<span style=\"font-weight: bold\"> Layer (type)                         </span>┃<span style=\"font-weight: bold\"> Output Shape                </span>┃<span style=\"font-weight: bold\">         Param # </span>┃\n",
       "┡━━━━━━━━━━━━━━━━━━━━━━━━━━━━━━━━━━━━━━╇━━━━━━━━━━━━━━━━━━━━━━━━━━━━━╇━━━━━━━━━━━━━━━━━┩\n",
       "│ Input_Layer (<span style=\"color: #0087ff; text-decoration-color: #0087ff\">InputLayer</span>)             │ (<span style=\"color: #00d7ff; text-decoration-color: #00d7ff\">None</span>, <span style=\"color: #00af00; text-decoration-color: #00af00\">212</span>)                 │               <span style=\"color: #00af00; text-decoration-color: #00af00\">0</span> │\n",
       "├──────────────────────────────────────┼─────────────────────────────┼─────────────────┤\n",
       "│ Embedding_Layer (<span style=\"color: #0087ff; text-decoration-color: #0087ff\">Embedding</span>)          │ (<span style=\"color: #00d7ff; text-decoration-color: #00d7ff\">None</span>, <span style=\"color: #00af00; text-decoration-color: #00af00\">212</span>, <span style=\"color: #00af00; text-decoration-color: #00af00\">300</span>)            │     <span style=\"color: #00af00; text-decoration-color: #00af00\">287,695,200</span> │\n",
       "├──────────────────────────────────────┼─────────────────────────────┼─────────────────┤\n",
       "│ BiLSTM_Layer (<span style=\"color: #0087ff; text-decoration-color: #0087ff\">Bidirectional</span>)         │ (<span style=\"color: #00d7ff; text-decoration-color: #00d7ff\">None</span>, <span style=\"color: #00af00; text-decoration-color: #00af00\">212</span>, <span style=\"color: #00af00; text-decoration-color: #00af00\">200</span>)            │         <span style=\"color: #00af00; text-decoration-color: #00af00\">320,800</span> │\n",
       "├──────────────────────────────────────┼─────────────────────────────┼─────────────────┤\n",
       "│ TimeDistributed_Dense                │ (<span style=\"color: #00d7ff; text-decoration-color: #00d7ff\">None</span>, <span style=\"color: #00af00; text-decoration-color: #00af00\">212</span>, <span style=\"color: #00af00; text-decoration-color: #00af00\">100</span>)            │          <span style=\"color: #00af00; text-decoration-color: #00af00\">20,100</span> │\n",
       "│ (<span style=\"color: #0087ff; text-decoration-color: #0087ff\">TimeDistributed</span>)                    │                             │                 │\n",
       "├──────────────────────────────────────┼─────────────────────────────┼─────────────────┤\n",
       "│ Dropout_Layer (<span style=\"color: #0087ff; text-decoration-color: #0087ff\">Dropout</span>)              │ (<span style=\"color: #00d7ff; text-decoration-color: #00d7ff\">None</span>, <span style=\"color: #00af00; text-decoration-color: #00af00\">212</span>, <span style=\"color: #00af00; text-decoration-color: #00af00\">100</span>)            │               <span style=\"color: #00af00; text-decoration-color: #00af00\">0</span> │\n",
       "├──────────────────────────────────────┼─────────────────────────────┼─────────────────┤\n",
       "│ Softmax_Output (<span style=\"color: #0087ff; text-decoration-color: #0087ff\">TimeDistributed</span>)     │ (<span style=\"color: #00d7ff; text-decoration-color: #00d7ff\">None</span>, <span style=\"color: #00af00; text-decoration-color: #00af00\">212</span>, <span style=\"color: #00af00; text-decoration-color: #00af00\">9</span>)              │             <span style=\"color: #00af00; text-decoration-color: #00af00\">909</span> │\n",
       "└──────────────────────────────────────┴─────────────────────────────┴─────────────────┘\n",
       "</pre>\n"
      ],
      "text/plain": [
       "┏━━━━━━━━━━━━━━━━━━━━━━━━━━━━━━━━━━━━━━┳━━━━━━━━━━━━━━━━━━━━━━━━━━━━━┳━━━━━━━━━━━━━━━━━┓\n",
       "┃\u001b[1m \u001b[0m\u001b[1mLayer (type)                        \u001b[0m\u001b[1m \u001b[0m┃\u001b[1m \u001b[0m\u001b[1mOutput Shape               \u001b[0m\u001b[1m \u001b[0m┃\u001b[1m \u001b[0m\u001b[1m        Param #\u001b[0m\u001b[1m \u001b[0m┃\n",
       "┡━━━━━━━━━━━━━━━━━━━━━━━━━━━━━━━━━━━━━━╇━━━━━━━━━━━━━━━━━━━━━━━━━━━━━╇━━━━━━━━━━━━━━━━━┩\n",
       "│ Input_Layer (\u001b[38;5;33mInputLayer\u001b[0m)             │ (\u001b[38;5;45mNone\u001b[0m, \u001b[38;5;34m212\u001b[0m)                 │               \u001b[38;5;34m0\u001b[0m │\n",
       "├──────────────────────────────────────┼─────────────────────────────┼─────────────────┤\n",
       "│ Embedding_Layer (\u001b[38;5;33mEmbedding\u001b[0m)          │ (\u001b[38;5;45mNone\u001b[0m, \u001b[38;5;34m212\u001b[0m, \u001b[38;5;34m300\u001b[0m)            │     \u001b[38;5;34m287,695,200\u001b[0m │\n",
       "├──────────────────────────────────────┼─────────────────────────────┼─────────────────┤\n",
       "│ BiLSTM_Layer (\u001b[38;5;33mBidirectional\u001b[0m)         │ (\u001b[38;5;45mNone\u001b[0m, \u001b[38;5;34m212\u001b[0m, \u001b[38;5;34m200\u001b[0m)            │         \u001b[38;5;34m320,800\u001b[0m │\n",
       "├──────────────────────────────────────┼─────────────────────────────┼─────────────────┤\n",
       "│ TimeDistributed_Dense                │ (\u001b[38;5;45mNone\u001b[0m, \u001b[38;5;34m212\u001b[0m, \u001b[38;5;34m100\u001b[0m)            │          \u001b[38;5;34m20,100\u001b[0m │\n",
       "│ (\u001b[38;5;33mTimeDistributed\u001b[0m)                    │                             │                 │\n",
       "├──────────────────────────────────────┼─────────────────────────────┼─────────────────┤\n",
       "│ Dropout_Layer (\u001b[38;5;33mDropout\u001b[0m)              │ (\u001b[38;5;45mNone\u001b[0m, \u001b[38;5;34m212\u001b[0m, \u001b[38;5;34m100\u001b[0m)            │               \u001b[38;5;34m0\u001b[0m │\n",
       "├──────────────────────────────────────┼─────────────────────────────┼─────────────────┤\n",
       "│ Softmax_Output (\u001b[38;5;33mTimeDistributed\u001b[0m)     │ (\u001b[38;5;45mNone\u001b[0m, \u001b[38;5;34m212\u001b[0m, \u001b[38;5;34m9\u001b[0m)              │             \u001b[38;5;34m909\u001b[0m │\n",
       "└──────────────────────────────────────┴─────────────────────────────┴─────────────────┘\n"
      ]
     },
     "metadata": {},
     "output_type": "display_data"
    },
    {
     "data": {
      "text/html": [
       "<pre style=\"white-space:pre;overflow-x:auto;line-height:normal;font-family:Menlo,'DejaVu Sans Mono',consolas,'Courier New',monospace\"><span style=\"font-weight: bold\"> Total params: </span><span style=\"color: #00af00; text-decoration-color: #00af00\">288,037,009</span> (1.07 GB)\n",
       "</pre>\n"
      ],
      "text/plain": [
       "\u001b[1m Total params: \u001b[0m\u001b[38;5;34m288,037,009\u001b[0m (1.07 GB)\n"
      ]
     },
     "metadata": {},
     "output_type": "display_data"
    },
    {
     "data": {
      "text/html": [
       "<pre style=\"white-space:pre;overflow-x:auto;line-height:normal;font-family:Menlo,'DejaVu Sans Mono',consolas,'Courier New',monospace\"><span style=\"font-weight: bold\"> Trainable params: </span><span style=\"color: #00af00; text-decoration-color: #00af00\">341,809</span> (1.30 MB)\n",
       "</pre>\n"
      ],
      "text/plain": [
       "\u001b[1m Trainable params: \u001b[0m\u001b[38;5;34m341,809\u001b[0m (1.30 MB)\n"
      ]
     },
     "metadata": {},
     "output_type": "display_data"
    },
    {
     "data": {
      "text/html": [
       "<pre style=\"white-space:pre;overflow-x:auto;line-height:normal;font-family:Menlo,'DejaVu Sans Mono',consolas,'Courier New',monospace\"><span style=\"font-weight: bold\"> Non-trainable params: </span><span style=\"color: #00af00; text-decoration-color: #00af00\">287,695,200</span> (1.07 GB)\n",
       "</pre>\n"
      ],
      "text/plain": [
       "\u001b[1m Non-trainable params: \u001b[0m\u001b[38;5;34m287,695,200\u001b[0m (1.07 GB)\n"
      ]
     },
     "metadata": {},
     "output_type": "display_data"
    },
    {
     "name": "stdout",
     "output_type": "stream",
     "text": [
      "Epoch 1/20\n"
     ]
    },
    {
     "name": "stderr",
     "output_type": "stream",
     "text": [
      "/usr/local/lib/python3.10/dist-packages/tensorflow/python/data/ops/structured_function.py:258: UserWarning: Even though the `tf.config.experimental_run_functions_eagerly` option is set, this option does not apply to tf.data functions. To force eager execution of tf.data functions, please use `tf.data.experimental.enable_debug_mode()`.\n",
      "  warnings.warn(\n"
     ]
    },
    {
     "name": "stdout",
     "output_type": "stream",
     "text": [
      "\u001b[1m115/115\u001b[0m \u001b[32m━━━━━━━━━━━━━━━━━━━━\u001b[0m\u001b[37m\u001b[0m \u001b[1m400s\u001b[0m 3s/step - accuracy: 0.8295 - loss: 0.6697 - val_accuracy: 0.9821 - val_loss: 0.0844\n",
      "Epoch 2/20\n",
      "\u001b[1m115/115\u001b[0m \u001b[32m━━━━━━━━━━━━━━━━━━━━\u001b[0m\u001b[37m\u001b[0m \u001b[1m395s\u001b[0m 3s/step - accuracy: 0.9830 - loss: 0.0817 - val_accuracy: 0.9826 - val_loss: 0.0696\n",
      "Epoch 3/20\n",
      "\u001b[1m115/115\u001b[0m \u001b[32m━━━━━━━━━━━━━━━━━━━━\u001b[0m\u001b[37m\u001b[0m \u001b[1m395s\u001b[0m 3s/step - accuracy: 0.9849 - loss: 0.0622 - val_accuracy: 0.9838 - val_loss: 0.0562\n",
      "Epoch 4/20\n",
      "\u001b[1m115/115\u001b[0m \u001b[32m━━━━━━━━━━━━━━━━━━━━\u001b[0m\u001b[37m\u001b[0m \u001b[1m394s\u001b[0m 3s/step - accuracy: 0.9865 - loss: 0.0528 - val_accuracy: 0.9870 - val_loss: 0.0488\n",
      "Epoch 5/20\n",
      "\u001b[1m115/115\u001b[0m \u001b[32m━━━━━━━━━━━━━━━━━━━━\u001b[0m\u001b[37m\u001b[0m \u001b[1m395s\u001b[0m 3s/step - accuracy: 0.9880 - loss: 0.0471 - val_accuracy: 0.9887 - val_loss: 0.0435\n",
      "Epoch 6/20\n",
      "\u001b[1m115/115\u001b[0m \u001b[32m━━━━━━━━━━━━━━━━━━━━\u001b[0m\u001b[37m\u001b[0m \u001b[1m396s\u001b[0m 3s/step - accuracy: 0.9889 - loss: 0.0428 - val_accuracy: 0.9890 - val_loss: 0.0409\n",
      "Epoch 7/20\n",
      "\u001b[1m115/115\u001b[0m \u001b[32m━━━━━━━━━━━━━━━━━━━━\u001b[0m\u001b[37m\u001b[0m \u001b[1m396s\u001b[0m 3s/step - accuracy: 0.9895 - loss: 0.0399 - val_accuracy: 0.9893 - val_loss: 0.0390\n",
      "Epoch 8/20\n",
      "\u001b[1m115/115\u001b[0m \u001b[32m━━━━━━━━━━━━━━━━━━━━\u001b[0m\u001b[37m\u001b[0m \u001b[1m393s\u001b[0m 3s/step - accuracy: 0.9901 - loss: 0.0372 - val_accuracy: 0.9895 - val_loss: 0.0372\n",
      "Epoch 9/20\n",
      "\u001b[1m115/115\u001b[0m \u001b[32m━━━━━━━━━━━━━━━━━━━━\u001b[0m\u001b[37m\u001b[0m \u001b[1m394s\u001b[0m 3s/step - accuracy: 0.9902 - loss: 0.0366 - val_accuracy: 0.9901 - val_loss: 0.0351\n",
      "Epoch 10/20\n",
      "\u001b[1m115/115\u001b[0m \u001b[32m━━━━━━━━━━━━━━━━━━━━\u001b[0m\u001b[37m\u001b[0m \u001b[1m393s\u001b[0m 3s/step - accuracy: 0.9906 - loss: 0.0351 - val_accuracy: 0.9906 - val_loss: 0.0338\n",
      "Epoch 11/20\n",
      "\u001b[1m115/115\u001b[0m \u001b[32m━━━━━━━━━━━━━━━━━━━━\u001b[0m\u001b[37m\u001b[0m \u001b[1m398s\u001b[0m 3s/step - accuracy: 0.9909 - loss: 0.0333 - val_accuracy: 0.9910 - val_loss: 0.0325\n",
      "Epoch 12/20\n",
      "\u001b[1m115/115\u001b[0m \u001b[32m━━━━━━━━━━━━━━━━━━━━\u001b[0m\u001b[37m\u001b[0m \u001b[1m402s\u001b[0m 3s/step - accuracy: 0.9916 - loss: 0.0307 - val_accuracy: 0.9913 - val_loss: 0.0313\n",
      "Epoch 13/20\n",
      "\u001b[1m115/115\u001b[0m \u001b[32m━━━━━━━━━━━━━━━━━━━━\u001b[0m\u001b[37m\u001b[0m \u001b[1m403s\u001b[0m 4s/step - accuracy: 0.9914 - loss: 0.0312 - val_accuracy: 0.9917 - val_loss: 0.0303\n",
      "Epoch 14/20\n",
      "\u001b[1m115/115\u001b[0m \u001b[32m━━━━━━━━━━━━━━━━━━━━\u001b[0m\u001b[37m\u001b[0m \u001b[1m402s\u001b[0m 3s/step - accuracy: 0.9922 - loss: 0.0288 - val_accuracy: 0.9922 - val_loss: 0.0286\n",
      "Epoch 15/20\n",
      "\u001b[1m115/115\u001b[0m \u001b[32m━━━━━━━━━━━━━━━━━━━━\u001b[0m\u001b[37m\u001b[0m \u001b[1m401s\u001b[0m 3s/step - accuracy: 0.9924 - loss: 0.0277 - val_accuracy: 0.9923 - val_loss: 0.0285\n",
      "Epoch 16/20\n",
      "\u001b[1m115/115\u001b[0m \u001b[32m━━━━━━━━━━━━━━━━━━━━\u001b[0m\u001b[37m\u001b[0m \u001b[1m400s\u001b[0m 3s/step - accuracy: 0.9926 - loss: 0.0275 - val_accuracy: 0.9925 - val_loss: 0.0279\n",
      "Epoch 17/20\n",
      "\u001b[1m115/115\u001b[0m \u001b[32m━━━━━━━━━━━━━━━━━━━━\u001b[0m\u001b[37m\u001b[0m \u001b[1m402s\u001b[0m 3s/step - accuracy: 0.9932 - loss: 0.0257 - val_accuracy: 0.9928 - val_loss: 0.0272\n",
      "Epoch 18/20\n",
      "\u001b[1m115/115\u001b[0m \u001b[32m━━━━━━━━━━━━━━━━━━━━\u001b[0m\u001b[37m\u001b[0m \u001b[1m401s\u001b[0m 3s/step - accuracy: 0.9932 - loss: 0.0247 - val_accuracy: 0.9929 - val_loss: 0.0268\n",
      "Epoch 19/20\n",
      "\u001b[1m115/115\u001b[0m \u001b[32m━━━━━━━━━━━━━━━━━━━━\u001b[0m\u001b[37m\u001b[0m \u001b[1m400s\u001b[0m 3s/step - accuracy: 0.9933 - loss: 0.0240 - val_accuracy: 0.9930 - val_loss: 0.0263\n",
      "Epoch 20/20\n",
      "\u001b[1m115/115\u001b[0m \u001b[32m━━━━━━━━━━━━━━━━━━━━\u001b[0m\u001b[37m\u001b[0m \u001b[1m400s\u001b[0m 3s/step - accuracy: 0.9935 - loss: 0.0238 - val_accuracy: 0.9931 - val_loss: 0.0262\n"
     ]
    },
    {
     "data": {
      "image/png": "[encoded data removed]",
      "text/plain": [
       "<Figure size 600x600 with 1 Axes>"
      ]
     },
     "metadata": {},
     "output_type": "display_data"
    },
    {
     "name": "stderr",
     "output_type": "stream",
     "text": [
      "/usr/local/lib/python3.10/dist-packages/tensorflow/python/data/ops/structured_function.py:258: UserWarning: Even though the `tf.config.experimental_run_functions_eagerly` option is set, this option does not apply to tf.data functions. To force eager execution of tf.data functions, please use `tf.data.experimental.enable_debug_mode()`.\n",
      "  warnings.warn(\n"
     ]
    },
    {
     "name": "stdout",
     "output_type": "stream",
     "text": [
      "\u001b[1m39/39\u001b[0m \u001b[32m━━━━━━━━━━━━━━━━━━━━\u001b[0m\u001b[37m\u001b[0m \u001b[1m60s\u001b[0m 2s/step\n",
      "              precision    recall  f1-score   support\n",
      "\n",
      "         LOC       1.00      1.00      1.00    229345\n",
      "        MISC       0.76      0.20      0.31       314\n",
      "         ORG       0.56      0.33      0.42       691\n",
      "        PERS       0.75      0.65      0.69      1114\n",
      "\n",
      "   micro avg       1.00      0.99      1.00    231464\n",
      "   macro avg       0.77      0.54      0.61    231464\n",
      "weighted avg       1.00      0.99      1.00    231464\n",
      "\n",
      "F1 Score: 0.9959\n"
     ]
    }
   ],
   "source": [
    "import numpy as np\n",
    "import tensorflow as tf\n",
    "from tensorflow.keras.utils import to_categorical, pad_sequences\n",
    "import pandas as pd\n",
    "import matplotlib.pyplot as plt\n",
    "from seqeval.metrics import classification_report, f1_score\n",
    "from tensorflow.keras.layers import Dense, Input, LSTM, Masking, Bidirectional, TimeDistributed, Activation, Embedding, Dropout\n",
    "from tensorflow.keras.models import Model\n",
    "from tensorflow.keras.optimizers import Adam\n",
    "import time\n",
    "import re\n",
    "import gensim.models.keyedvectors as word2vec\n",
    "\n",
    "\n",
    "tf.config.run_functions_eagerly(True)\n",
    "\n",
    "\n",
    "def build_model(input_dim, output_dim, embedding_matrix, max_len):\n",
    "    input_layer = Input(shape=(max_len,), name=\"Input_Layer\")\n",
    "\n",
    " \n",
    "    embedding_layer = Embedding(\n",
    "        input_dim=embedding_matrix.shape[0],\n",
    "        output_dim=embedding_matrix.shape[1],\n",
    "        weights=[embedding_matrix],\n",
    "        trainable=False,\n",
    "        input_length=max_len,\n",
    "        name=\"Embedding_Layer\"\n",
    "    )(input_layer)\n",
    "\n",
    "    lstm = LSTM(100, return_sequences=True, dropout=0.5, recurrent_dropout=0.5))(embedding_layer)\n",
    "\n",
    "    dense = TimeDistributed(Dense(100, activation=\"relu\"), name=\"TimeDistributed_Dense\")(lstm)\n",
    "\n",
    "    dropout = Dropout(0.5, name=\"Dropout_Layer\")(dense)\n",
    "\n",
    "    output_layer = TimeDistributed(Dense(output_dim, activation=\"softmax\"), name=\"Softmax_Output\")(dropout)\n",
    "\n",
    "    return Model(input_layer, output_layer)\n",
    "\n",
    "\n",
    "print('Loading Word Embedding model...')\n",
    "start_time = time.time()\n",
    "embedding = word2vec.KeyedVectors.load_word2vec_format('/kaggle/input/wiki-ar-vec/wiki.ar.vec', binary=False)\n",
    "load_time = time.time() - start_time\n",
    "print(f'Loaded model in {load_time:.2f} seconds')\n",
    "\n",
    "\n",
    "dump_chars = '!\"#$%&\\'()*+,-./:;<=>?@[\\\\]^_`{|}~’،ـ؟؛«» '\n",
    "\n",
    "\n",
    "def clean_word(word):\n",
    "    word = word.translate(str.maketrans({key: None for key in dump_chars}))\n",
    "    p_tashkeel = re.compile(r'[\\u0617-\\u061A\\u064B-\\u0652]')\n",
    "    word = re.sub(p_tashkeel, \"\", word)\n",
    "    return word\n",
    "\n",
    "# Charger les données\n",
    "def load_data():\n",
    "    path = '/kaggle/input/anercorpdata/ANERCorp'\n",
    "    with open(path, 'r') as f:\n",
    "        sents = f.read().split('\\n. O\\n')\n",
    "\n",
    "    words, tokens = [], []\n",
    "    for sent in sents:\n",
    "        word_list, token_list = [], []\n",
    "        for word in sent.split('\\n'):\n",
    "            line = word.rsplit(' ', 1)\n",
    "            if len(line) > 1:\n",
    "                cleaned_word = clean_word(line[0])\n",
    "                if len(cleaned_word) > 0:\n",
    "                    word_list.append(cleaned_word)\n",
    "                    token_list.append(line[1])\n",
    "        if word_list:\n",
    "            words.append(word_list)\n",
    "            tokens.append(token_list)\n",
    "    return words, tokens\n",
    "\n",
    "\n",
    "sents, labels = load_data()\n",
    "tag_classes = ['B-LOC', 'B-MISC', 'B-ORG', 'B-PERS', 'I-LOC', 'I-MISC', 'I-ORG', 'I-PERS', 'O']\n",
    "\n",
    "\n",
    "embedding_dim = embedding.vector_size  \n",
    "unknown_vector = np.zeros(embedding_dim)  \n",
    "vocab_size = len(embedding)\n",
    "\n",
    "embedding_matrix = np.zeros((vocab_size + 1, embedding_dim))\n",
    "for word, index in embedding.key_to_index.items():\n",
    "    embedding_matrix[index] = embedding[word]\n",
    "\n",
    "\n",
    "sents_indexed = [[embedding.key_to_index.get(word, vocab_size) for word in sent] for sent in sents]\n",
    "\n",
    "\n",
    "max_len = max(len(sent) for sent in sents_indexed)  # Longueur maximale des séquences\n",
    "train_x = pad_sequences(sents_indexed[:3673], maxlen=max_len, padding='post')\n",
    "test_x = pad_sequences(sents_indexed[3674:], maxlen=max_len, padding='post')\n",
    "\n",
    "\n",
    "label_map = {label: idx for idx, label in enumerate(tag_classes)}\n",
    "labels_indexed = [[label_map[label] for label in seq] for seq in labels]\n",
    "\n",
    "\n",
    "train_y = pad_sequences(labels_indexed[:3673], maxlen=max_len, padding='post')\n",
    "test_y = pad_sequences(labels_indexed[3674:], maxlen=max_len, padding='post')\n",
    "\n",
    "\n",
    "num_classes = len(tag_classes)\n",
    "train_y = np.array([to_categorical(seq, num_classes=num_classes) for seq in train_y])\n",
    "test_y = np.array([to_categorical(seq, num_classes=num_classes) for seq in test_y])\n",
    "\n",
    "\n",
    "train_model = build_model(input_dim=vocab_size + 1, output_dim=num_classes, embedding_matrix=embedding_matrix, max_len=max_len)\n",
    "train_model.compile(optimizer=Adam(learning_rate=0.0005), loss='categorical_crossentropy', metrics=['accuracy'])\n",
    "\n",
    "train_model.summary()\n",
    "\n",
    "\n",
    "history = train_model.fit(\n",
    "    train_x, train_y,\n",
    "    epochs=20,\n",
    "    batch_size=32,\n",
    "    validation_data=(test_x, test_y),\n",
    "    verbose=1\n",
    ")\n",
    "\n",
    "hist = pd.DataFrame(history.history)\n",
    "plt.style.use(\"ggplot\")\n",
    "plt.figure(figsize=(6, 6))\n",
    "plt.plot(hist[\"accuracy\"], label=\"Train Accuracy\")\n",
    "plt.plot(hist[\"val_accuracy\"], label=\"Validation Accuracy\")\n",
    "plt.plot(hist[\"loss\"], label=\"Train Loss\")\n",
    "plt.plot(hist[\"val_loss\"], label=\"Validation Loss\")\n",
    "plt.legend()\n",
    "plt.show()\n",
    "\n",
    "predictions = train_model.predict(test_x)\n",
    "pred_labels = [[tag_classes[np.argmax(p)] for p in seq] for seq in predictions]\n",
    "true_labels = [[tag_classes[np.argmax(t)] for t in seq] for seq in test_y]\n",
    "\n",
    "print(classification_report(true_labels, pred_labels))\n",
    "print(f\"F1 Score: {f1_score(true_labels, pred_labels):.4f}\")\n"
   ]
  },
  {
   "cell_type": "code",
   "execution_count": 9,
   "metadata": {
    "execution": {
     "iopub.execute_input": "2024-12-24T16:12:55.672730Z",
     "iopub.status.busy": "2024-12-24T16:12:55.672293Z",
     "iopub.status.idle": "2024-12-24T16:13:00.656436Z",
     "shell.execute_reply": "2024-12-24T16:13:00.655476Z",
     "shell.execute_reply.started": "2024-12-24T16:12:55.672693Z"
    }
   },
   "outputs": [
    {
     "name": "stderr",
     "output_type": "stream",
     "text": [
      "/usr/local/lib/python3.10/dist-packages/tensorflow/python/data/ops/structured_function.py:258: UserWarning: Even though the `tf.config.experimental_run_functions_eagerly` option is set, this option does not apply to tf.data functions. To force eager execution of tf.data functions, please use `tf.data.experimental.enable_debug_mode()`.\n",
      "  warnings.warn(\n"
     ]
    },
    {
     "name": "stdout",
     "output_type": "stream",
     "text": [
      "\u001b[1m1/1\u001b[0m \u001b[32m━━━━━━━━━━━━━━━━━━━━\u001b[0m\u001b[37m\u001b[0m \u001b[1m2s\u001b[0m 2s/step\n",
      "\n",
      "Phrase:  محمد يعيش في الرباط\n",
      "Tags prédits:  ['B-PERS', 'O', 'O', 'B-LOC']\n",
      "\u001b[1m1/1\u001b[0m \u001b[32m━━━━━━━━━━━━━━━━━━━━\u001b[0m\u001b[37m\u001b[0m \u001b[1m2s\u001b[0m 2s/step\n",
      "\n",
      "Phrase:  الشركة تطور منتجات مبتكرة\n",
      "Tags prédits:  ['O', 'O', 'O', 'O']\n",
      "\u001b[1m1/1\u001b[0m \u001b[32m━━━━━━━━━━━━━━━━━━━━\u001b[0m\u001b[37m\u001b[0m \u001b[1m2s\u001b[0m 2s/step\n",
      "\n",
      "Phrase:  باريس هي عاصمة فرنسا\n",
      "Tags prédits:  ['B-LOC', 'O', 'O', 'B-LOC']\n"
     ]
    }
   ],
   "source": [
    "def test_model_on_examples(examples, model, tag_classes, embedding, max_len, vocab_size):\n",
    "\n",
    "\n",
    "    for sentence in examples:\n",
    "        words = sentence.split()\n",
    "        indexed_sentence = [embedding.key_to_index.get(clean_word(word), vocab_size) for word in words]\n",
    "        padded_sentence = pad_sequences([indexed_sentence], maxlen=max_len, padding='post')\n",
    "        \n",
    "        pred = model.predict(padded_sentence)\n",
    "        pred_tags = [tag_classes[np.argmax(p)] for p in pred[0][:len(words)]]\n",
    "        \n",
    "        print(\"\\nPhrase: \", sentence)\n",
    "        print(\"Tags prédits: \", pred_tags)\n",
    "        \n",
    "examples = [\n",
    "    \"محمد يعيش في الرباط\",\n",
    "    \"الشركة تطور منتجات مبتكرة\",\n",
    "    \"باريس هي عاصمة فرنسا\"\n",
    "]\n",
    "\n",
    "test_model_on_examples(examples, train_model, tag_classes, embedding, max_len, vocab_size)\n"
   ]
  },
  {
   "cell_type": "code",
   "execution_count": 11,
   "metadata": {
    "execution": {
     "iopub.execute_input": "2024-12-24T16:18:44.304017Z",
     "iopub.status.busy": "2024-12-24T16:18:44.303587Z",
     "iopub.status.idle": "2024-12-24T16:18:47.114524Z",
     "shell.execute_reply": "2024-12-24T16:18:47.113780Z",
     "shell.execute_reply.started": "2024-12-24T16:18:44.303985Z"
    }
   },
   "outputs": [],
   "source": [
    "train_model.save_weights('weights.weights.h5')\n"
   ]
  },
  {
   "cell_type": "code",
   "execution_count": null,
   "metadata": {},
   "outputs": [],
   "source": []
  }
 ],
 "metadata": {
  "kaggle": {
   "accelerator": "gpu",
   "dataSources": [
    {
     "datasetId": 6349931,
     "sourceId": 10264259,
     "sourceType": "datasetVersion"
    },
    {
     "datasetId": 6349961,
     "sourceId": 10264297,
     "sourceType": "datasetVersion"
    },
    {
     "datasetId": 6366770,
     "sourceId": 10287861,
     "sourceType": "datasetVersion"
    }
   ],
   "dockerImageVersionId": 30823,
   "isGpuEnabled": true,
   "isInternetEnabled": true,
   "language": "python",
   "sourceType": "notebook"
  },
  "kernelspec": {
   "display_name": "Python 3 (ipykernel)",
   "language": "python",
   "name": "python3"
  },
  "language_info": {
   "codemirror_mode": {
    "name": "ipython",
    "version": 3
   },
   "file_extension": ".py",
   "mimetype": "text/x-python",
   "name": "python",
   "nbconvert_exporter": "python",
   "pygments_lexer": "ipython3",
   "version": "3.12.7"
  }
 },
 "nbformat": 4,
 "nbformat_minor": 4
}
